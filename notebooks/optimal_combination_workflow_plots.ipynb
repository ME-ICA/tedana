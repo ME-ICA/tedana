{
 "cells": [
  {
   "cell_type": "markdown",
   "metadata": {},
   "source": [
    "# Generate plots for optimal combination workflow"
   ]
  },
  {
   "cell_type": "code",
   "execution_count": null,
   "metadata": {},
   "outputs": [],
   "source": [
    "%matplotlib inline\n",
    "import os.path as op\n",
    "from glob import glob\n",
    "\n",
    "import numpy as np\n",
    "import nibabel as nib\n",
    "import seaborn as sns\n",
    "import matplotlib.pyplot as plt\n",
    "from nilearn import plotting"
   ]
  },
  {
   "cell_type": "code",
   "execution_count": null,
   "metadata": {},
   "outputs": [],
   "source": [
    "# Load data\n",
    "data_dir = '/Users/tsalo/Documents/tsalo/tedana_comparison/e5_data/'\n",
    "ted_dir = '/Users/tsalo/Documents/nbc/power-replication/sandbox/TED.p06.mlepca/'\n",
    "files = ['p06.SBJ01_S09_Task11_e1.sm.nii.gz',\n",
    "         'p06.SBJ01_S09_Task11_e2.sm.nii.gz',\n",
    "         'p06.SBJ01_S09_Task11_e3.sm.nii.gz',\n",
    "         'p06.SBJ01_S09_Task11_e4.sm.nii.gz',\n",
    "         'p06.SBJ01_S09_Task11_e5.sm.nii.gz']\n",
    "files = [op.join(data_dir, f) for f in files]\n",
    "imgs = [nib.load(f) for f in files]\n",
    "echo_times = np.array([15.4, 29.7, 44.0, 58.3, 72.6])\n",
    "\n",
    "n_echoes = len(imgs)\n",
    "n_trs = imgs[0].shape[-1]\n",
    "\n",
    "pal = sns.color_palette('cubehelix', n_echoes)"
   ]
  },
  {
   "cell_type": "code",
   "execution_count": null,
   "metadata": {},
   "outputs": [],
   "source": [
    "# Select voxel from around middle of brain\n",
    "ts = [img.get_data()[22, 40, 2, :] for img in imgs]\n",
    "\n",
    "# Prepare data for model\n",
    "ts_1d = np.hstack(ts) # data raveled out (T * E)\n",
    "log_data = np.log(np.abs(ts_1d) + 1)\n",
    "# log_data = np.log(ts_1d)  # in a perfect world...\n",
    "x = np.column_stack([np.ones(n_echoes), -1 * echo_times])\n",
    "X = np.repeat(x, n_trs, axis=0)  # T * E\n",
    "\n",
    "# Model fit\n",
    "betas = np.linalg.lstsq(X, log_data, rcond=None)[0]\n",
    "s0 = np.exp(betas[0])\n",
    "r2s = betas[1]\n",
    "t2s = 1. / r2s\n",
    "\n",
    "# Values for plots\n",
    "# Values from log-linear model\n",
    "log_x = np.arange(-80, 0, .01)\n",
    "log_y = betas[0] + log_x*betas[1]\n",
    "\n",
    "# Values from monoexponential decay model\n",
    "mono_x = np.arange(0, 80, .01)\n",
    "mono_y = np.exp(-1*betas[1]*mono_x) * s0\n",
    "\n",
    "# Get weights for optimal combination\n",
    "alpha = echo_times * np.exp(-echo_times / t2s)\n",
    "alpha = alpha / np.sum(alpha)  # unnecessary but good for bar plot below\n",
    "\n",
    "# Combine data across echoes\n",
    "oc = np.average(np.vstack(ts), axis=0, weights=alpha)"
   ]
  },
  {
   "cell_type": "markdown",
   "metadata": {},
   "source": [
    "## Echo-specific timeseries"
   ]
  },
  {
   "cell_type": "code",
   "execution_count": null,
   "metadata": {},
   "outputs": [],
   "source": [
    "fig, axes = plt.subplots(n_echoes, sharex=True, sharey=False, figsize=(14, 6))\n",
    "for i_echo in range(n_echoes):\n",
    "    axes[i_echo].plot(ts[i_echo], color=pal[i_echo])\n",
    "    axes[i_echo].set_ylabel('{0}ms'.format(echo_times[i_echo]), rotation=0, va='center', ha='right', fontsize=14)\n",
    "    axes[i_echo].set_yticks([])\n",
    "    axes[i_echo].set_xticks([])\n",
    "\n",
    "axes[-1].set_xlabel('Time', fontsize=16)\n",
    "axes[-1].set_xlim(0, len(ts[i_echo])-1)\n",
    "fig.tight_layout()\n",
    "fig.savefig('01_echo_timeseries.png', dpi=400)"
   ]
  },
  {
   "cell_type": "markdown",
   "metadata": {},
   "source": [
    "## Echo-specific data and echo time"
   ]
  },
  {
   "cell_type": "code",
   "execution_count": null,
   "metadata": {},
   "outputs": [],
   "source": [
    "fig, ax = plt.subplots(figsize=(10, 6))\n",
    "values = [i[0] for i in ts]\n",
    "for i_echo in range(n_echoes):\n",
    "    rep_echo_times = np.ones(n_trs) * echo_times[i_echo]\n",
    "    ax.scatter(rep_echo_times, ts[i_echo], alpha=0.05, color=pal[i_echo])\n",
    "\n",
    "ax.set_ylabel('BOLD signal', fontsize=16)\n",
    "ax.set_xlabel('Echo Time (ms)', fontsize=16)\n",
    "ax.set_xticks(echo_times)\n",
    "ax.tick_params(axis='both', which='major', labelsize=14)\n",
    "\n",
    "ax.set_ylim(5000, 40000)\n",
    "fig.tight_layout()\n",
    "fig.savefig('02_echo_value_distributions.png', dpi=400)"
   ]
  },
  {
   "cell_type": "markdown",
   "metadata": {},
   "source": [
    "## Adaptive mask\n",
    "Longer echo times are more susceptible to signal dropout, which means that certain brain regions (e.g., orbitofrontal cortex, temporal poles) will only have good signal for some echoes. In order to avoid using bad signal from affected echoes in calculating $T_{2}^*$ and $S_{0}$ for a given voxel, `tedana` generates an adaptive mask, where the value for each voxel is the number of echoes with \"good\" signal. When $T_{2}^*$ and $S_{0}$ are calculated below, each voxel's values are only calculated from the first $n$ echoes, where $n$ is the value for that voxel in the adaptive mask."
   ]
  },
  {
   "cell_type": "code",
   "execution_count": null,
   "metadata": {},
   "outputs": [],
   "source": [
    "adaptive_mask_img = nib.load(op.join(ted_dir, 'adaptive_mask.nii'))\n",
    "fig, ax = plt.subplots(figsize=(10, 6))\n",
    "\n",
    "plotting.plot_stat_map(adaptive_mask_img, vmax=8, alpha=1,\n",
    "                       cut_coords=[0, -4, 6],\n",
    "                       draw_cross=False, colorbar=True,\n",
    "                       annotate=False, bg_img=None, figure=fig, axes=ax)\n",
    "fig.savefig('03_adaptive_mask.png', dpi=400)"
   ]
  },
  {
   "cell_type": "markdown",
   "metadata": {},
   "source": [
    "## Log-linear transformation"
   ]
  },
  {
   "cell_type": "code",
   "execution_count": null,
   "metadata": {},
   "outputs": [],
   "source": [
    "fig, ax = plt.subplots(figsize=(10, 6))\n",
    "for i_echo in range(n_echoes):\n",
    "    rep_echo_times = -1 * np.ones(n_trs) * echo_times[i_echo]\n",
    "    log_echo_data = np.log((np.abs(ts[i_echo]) + 1))\n",
    "    ax.scatter(rep_echo_times, log_echo_data, alpha=0.05, color=pal[i_echo])\n",
    "\n",
    "ax.set_ylabel('log(BOLD signal)', fontsize=16)\n",
    "ax.set_xlabel('Negative Echo Time (ms)', fontsize=16)\n",
    "ax.set_xticks(-1 * echo_times)\n",
    "ax.set_xlim(-80, -10)\n",
    "ax.set_ylim(8.6, 10.5)\n",
    "ax.tick_params(axis='both', which='major', labelsize=14)\n",
    "\n",
    "fig.tight_layout()\n",
    "fig.savefig('04_echo_log_value_distributions.png', dpi=400)"
   ]
  },
  {
   "cell_type": "markdown",
   "metadata": {},
   "source": [
    "## Log-linear model\n",
    "\n",
    "Let $S$ be the BOLD signal for a given echo.\n",
    "\n",
    "Let $TE$ be the echo time in milliseconds.\n",
    "\n",
    "$$\\log_{e}(\\left|\\begin{pmatrix}\n",
    "S(TE_{1}) \\\\\n",
    "S(TE_{2}) \\\\\n",
    "\\vdots \\\\\n",
    "S(TE_{n})\\end{pmatrix}\\right|\n",
    "+\n",
    "\\begin{pmatrix}\n",
    "1 \\\\\n",
    "1 \\\\\n",
    "\\vdots \\\\\n",
    "1\\end{pmatrix}\n",
    ") = B_{1}\n",
    "\\begin{pmatrix}\n",
    "-TE_{1} \\\\\n",
    "-TE_{2} \\\\\n",
    "\\vdots \\\\\n",
    "-TE_{n}\\end{pmatrix} + \n",
    "\\begin{pmatrix}\n",
    "B_{0} \\\\\n",
    "B_{0} \\\\\n",
    "\\vdots \\\\\n",
    "B_{0}\\end{pmatrix}$$"
   ]
  },
  {
   "cell_type": "code",
   "execution_count": null,
   "metadata": {},
   "outputs": [],
   "source": [
    "fig, ax = plt.subplots(figsize=(10, 6))\n",
    "for i_echo in range(n_echoes):\n",
    "    rep_echo_times = -1 * np.ones(n_trs) * echo_times[i_echo]\n",
    "    log_echo_data = np.log((np.abs(ts[i_echo]) + 1))\n",
    "    ax.scatter(rep_echo_times, log_echo_data, alpha=0.05, color=pal[i_echo])\n",
    "\n",
    "ax.plot(log_x, log_y)\n",
    "\n",
    "ax.set_ylabel('log(BOLD signal)', fontsize=16)\n",
    "ax.set_xlabel('Negative Echo Time (ms)', fontsize=16)\n",
    "ax.set_xticks(-1 * echo_times)\n",
    "ax.set_xlim(-80, -10)\n",
    "ax.set_ylim(8.6, 10.5)\n",
    "ax.tick_params(axis='both', which='major', labelsize=14)\n",
    "\n",
    "ax.annotate('$B_0$: {0:.02f}\\n$B_1$: {1:.02f}'.format(betas[0], betas[1]),\n",
    "            xy=(-70, 9.5), fontsize=16,\n",
    "            bbox=dict(fc=\"white\", ec=\"black\", lw=1))\n",
    "\n",
    "fig.tight_layout()\n",
    "fig.savefig('05_loglinear_regression.png', dpi=400)"
   ]
  },
  {
   "cell_type": "markdown",
   "metadata": {},
   "source": [
    "# Monoexponential decay model\n",
    "Calculation of $S_{0}$ and $T_{2}^{*}$\n",
    "$$S_{0} = e^{B_{0}}$$\n",
    "\n",
    "$$T_{2}^{*} = \\frac{1}{B_{1}}$$"
   ]
  },
  {
   "cell_type": "code",
   "execution_count": null,
   "metadata": {},
   "outputs": [],
   "source": [
    "fig, ax = plt.subplots(figsize=(10, 6))\n",
    "for i_echo in range(n_echoes):\n",
    "    rep_echo_times = np.ones(n_trs) * echo_times[i_echo]\n",
    "    ax.scatter(rep_echo_times, ts[i_echo], alpha=0.05, color=pal[i_echo])\n",
    "\n",
    "ax.plot(mono_x, mono_y)\n",
    "\n",
    "ax.set_ylabel('BOLD signal', fontsize=16)\n",
    "ax.set_xlabel('Echo Time (ms)', fontsize=16)\n",
    "ax.set_xticks(echo_times)\n",
    "ax.set_xlim(10, 80)\n",
    "ax.set_ylim(5000, 40000)\n",
    "ax.tick_params(axis='both', which='major', labelsize=14)\n",
    "ax.annotate('$S_0$: {0:.02f}\\n$T_2^*$: {1:.02f}'.format(s0, t2s),\n",
    "            xy=(60, 20000), fontsize=16,\n",
    "            bbox=dict(fc=\"white\", ec=\"black\", lw=1))\n",
    "\n",
    "fig.tight_layout()\n",
    "fig.savefig('06_monoexponential_decay_model.png', dpi=400)"
   ]
  },
  {
   "cell_type": "markdown",
   "metadata": {},
   "source": [
    "## T2*"
   ]
  },
  {
   "cell_type": "code",
   "execution_count": null,
   "metadata": {},
   "outputs": [],
   "source": [
    "fig, ax = plt.subplots(figsize=(10, 6))\n",
    "for i_echo in range(n_echoes):\n",
    "    rep_echo_times = np.ones(n_trs) * echo_times[i_echo]\n",
    "    ax.scatter(rep_echo_times, ts[i_echo], alpha=0.05, color=pal[i_echo])\n",
    "\n",
    "ax.plot(mono_x, mono_y)\n",
    "\n",
    "ax.axvline(t2s, 0, 1, label='$T_2^*$', color='black', linestyle='--', alpha=0.5)\n",
    "ax.set_ylabel('BOLD signal', fontsize=16)\n",
    "ax.set_xlabel('Echo Time (ms)', fontsize=16)\n",
    "ax.set_xticks(np.hstack((echo_times, [np.round(t2s, 1)])))\n",
    "ax.set_xlim(10, 80)\n",
    "ax.set_ylim(5000, 40000)\n",
    "ax.tick_params(axis='both', which='major', labelsize=14)\n",
    "\n",
    "legend = ax.legend(frameon=True, fontsize=16)\n",
    "\n",
    "fig.tight_layout()\n",
    "fig.savefig('07_monoexponential_decay_model_with_t2.png', dpi=400)"
   ]
  },
  {
   "cell_type": "markdown",
   "metadata": {},
   "source": [
    "## Optimal combination weights"
   ]
  },
  {
   "cell_type": "code",
   "execution_count": null,
   "metadata": {},
   "outputs": [],
   "source": [
    "fig, ax = plt.subplots()\n",
    "sns.barplot(echo_times, alpha, ax=ax, palette=pal)\n",
    "ax.set_ylabel('Weight', fontsize=16)\n",
    "ax.set_xlabel('Echo Time (ms)', fontsize=16)\n",
    "ax.tick_params(axis='both', which='major', labelsize=14)\n",
    "fig.tight_layout()\n",
    "fig.savefig('08_optimal_combination_echo_weights.png', dpi=400)"
   ]
  },
  {
   "cell_type": "markdown",
   "metadata": {},
   "source": [
    "## Optimally combined timeseries"
   ]
  },
  {
   "cell_type": "code",
   "execution_count": null,
   "metadata": {},
   "outputs": [],
   "source": [
    "fig, ax = plt.subplots(figsize=(10, 6))\n",
    "for i_echo in range(n_echoes):\n",
    "    rep_echo_times = np.ones(n_trs) * echo_times[i_echo]\n",
    "    ax.scatter(rep_echo_times, ts[i_echo], alpha=0.05, color=pal[i_echo])\n",
    "\n",
    "ax.plot(mono_x, mono_y)\n",
    "\n",
    "# Optimal combination\n",
    "rep_t2s = np.ones(n_trs) * t2s\n",
    "ax.scatter(rep_t2s, oc, alpha=1, color='red', label='Optimally\\ncombined\\ndata')\n",
    "\n",
    "ax.axvline(t2s, 0, 20000, label='$T_2^*$', color='black', linestyle='--', alpha=0.5)\n",
    "ax.set_ylabel('BOLD signal', fontsize=16)\n",
    "ax.set_xlabel('Echo Time (ms)', fontsize=16)\n",
    "ax.set_xticks(np.hstack((echo_times, [np.round(t2s, 1)])))\n",
    "ax.set_xlim(10, 80)\n",
    "ax.set_ylim(5000, 40000)\n",
    "ax.tick_params(axis='both', which='major', labelsize=14)\n",
    "\n",
    "legend = ax.legend(frameon=True, fontsize=16)\n",
    "\n",
    "fig.tight_layout()\n",
    "fig.savefig('09_optimal_combination_value_distributions.png', dpi=400)"
   ]
  },
  {
   "cell_type": "markdown",
   "metadata": {},
   "source": [
    "## Optimally combined timeseries"
   ]
  },
  {
   "cell_type": "code",
   "execution_count": null,
   "metadata": {},
   "outputs": [],
   "source": [
    "fig, axes = plt.subplots(n_echoes+1, sharex=True, sharey=False, figsize=(14, 6))\n",
    "for i_echo in range(n_echoes):\n",
    "    axes[i_echo].plot(ts[i_echo], color=pal[i_echo])\n",
    "    axes[i_echo].set_ylabel('{0}ms'.format(echo_times[i_echo]), rotation=0, va='center', ha='right', fontsize=14)\n",
    "    axes[i_echo].set_yticks([])\n",
    "    axes[i_echo].set_xticks([])\n",
    "\n",
    "axes[-1].plot(oc, color='red')\n",
    "axes[-1].set_ylabel('Optimally\\ncombined\\ndata', rotation=0, va='center', ha='right', fontsize=14)\n",
    "axes[-1].set_xlabel('Time', fontsize=16)\n",
    "axes[-1].set_yticks([])\n",
    "axes[-1].set_xticks([])\n",
    "axes[-1].set_xlim(0, len(ts[i_echo])-1)\n",
    "ax.tick_params(axis='both', which='major', labelsize=14)\n",
    "fig.tight_layout()\n",
    "fig.savefig('10_optimal_combination_timeseries.png', dpi=400)"
   ]
  }
 ],
 "metadata": {
  "kernelspec": {
   "display_name": "Python [conda env:python3]",
   "language": "python",
   "name": "conda-env-python3-py"
  },
  "language_info": {
   "codemirror_mode": {
    "name": "ipython",
    "version": 3
   },
   "file_extension": ".py",
   "mimetype": "text/x-python",
   "name": "python",
   "nbconvert_exporter": "python",
   "pygments_lexer": "ipython3",
   "version": "3.6.4"
  }
 },
 "nbformat": 4,
 "nbformat_minor": 2
}
