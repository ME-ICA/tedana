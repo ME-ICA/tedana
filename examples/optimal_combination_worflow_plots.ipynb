{
  "nbformat": 4,
  "nbformat_minor": 0,
  "metadata": {
    "colab": {
      "name": "optimal_combination_workflow_plots.ipynb",
      "version": "0.3.2",
      "provenance": [],
      "collapsed_sections": []
    },
    "kernelspec": {
      "name": "python3",
      "display_name": "Python 3"
    }
  },
  "cells": [
    {
      "metadata": {
        "id": "Yk1C6McF2mYr",
        "colab_type": "text"
      },
      "cell_type": "markdown",
      "source": [
        "# Download the dataset"
      ]
    },
    {
      "metadata": {
        "id": "kGnVtSvB2ikH",
        "colab_type": "code",
        "outputId": "0709ec16-8e65-49cc-8a08-cb486453975e",
        "colab": {
          "base_uri": "https://localhost:8080/",
          "height": 179
        }
      },
      "cell_type": "code",
      "source": [
        "!curl -L -o five_echo_NIH.tar.xz https://osf.io/ea5v3/download\n",
        "!mkdir e5_data\n",
        "!tar xvf five_echo_NIH.tar.xz -C e5_data/"
      ],
      "execution_count": 0,
      "outputs": [
        {
          "output_type": "stream",
          "text": [
            "  % Total    % Received % Xferd  Average Speed   Time    Time     Time  Current\n",
            "                                 Dload  Upload   Total   Spent    Left  Speed\n",
            "100   459  100   459    0     0    987      0 --:--:-- --:--:-- --:--:--   987\n",
            "100 68.5M  100 68.5M    0     0  20.5M      0  0:00:03  0:00:03 --:--:-- 37.5M\n",
            "p06.SBJ01_S09_Task11_e1.sm.nii.gz\n",
            "p06.SBJ01_S09_Task11_e2.sm.nii.gz\n",
            "p06.SBJ01_S09_Task11_e3.sm.nii.gz\n",
            "p06.SBJ01_S09_Task11_e4.sm.nii.gz\n",
            "p06.SBJ01_S09_Task11_e5.sm.nii.gz\n"
          ],
          "name": "stdout"
        }
      ]
    },
    {
      "metadata": {
        "id": "3cARGjZU32D9",
        "colab_type": "text"
      },
      "cell_type": "markdown",
      "source": [
        "#Install necessary packages"
      ]
    },
    {
      "metadata": {
        "id": "IAdsFgpp3OEa",
        "colab_type": "code",
        "outputId": "33468b1d-0d87-423e-b392-b81d57dda7e9",
        "colab": {
          "base_uri": "https://localhost:8080/",
          "height": 469
        }
      },
      "cell_type": "code",
      "source": [
        "!pip install tedana"
      ],
      "execution_count": 0,
      "outputs": [
        {
          "output_type": "stream",
          "text": [
            "Collecting tedana\n",
            "\u001b[?25l  Downloading https://files.pythonhosted.org/packages/11/50/0893ba82301ed5f710db1fbdab65d842e05b93a118bc224c6a3aa9f0f49b/tedana-0.0.6.tar.gz (1.6MB)\n",
            "\u001b[K    100% |████████████████████████████████| 1.6MB 13.9MB/s \n",
            "\u001b[?25hRequirement already satisfied: numpy in /usr/local/lib/python3.6/dist-packages (from tedana) (1.14.6)\n",
            "Requirement already satisfied: scikit-learn in /usr/local/lib/python3.6/dist-packages (from tedana) (0.20.2)\n",
            "Requirement already satisfied: pywavelets in /usr/local/lib/python3.6/dist-packages (from tedana) (1.0.2)\n",
            "Collecting nilearn (from tedana)\n",
            "\u001b[?25l  Downloading https://files.pythonhosted.org/packages/3d/9e/96f2da387ee9acaba2cbab7b596486b0231b5f6d9bf946b880536d4485fc/nilearn-0.5.0-py2.py3-none-any.whl (2.3MB)\n",
            "\u001b[K    100% |████████████████████████████████| 2.3MB 9.7MB/s \n",
            "\u001b[?25hRequirement already satisfied: nibabel>=2.1.0 in /usr/local/lib/python3.6/dist-packages (from tedana) (2.3.3)\n",
            "Requirement already satisfied: scipy in /usr/local/lib/python3.6/dist-packages (from tedana) (1.1.0)\n",
            "Collecting versioneer (from tedana)\n",
            "  Downloading https://files.pythonhosted.org/packages/95/b5/8bcf39663abc1fda6a2af6704062a44be13d3bc1ceca562a9c020fae8f36/versioneer-0.18-py2.py3-none-any.whl\n",
            "Requirement already satisfied: pandas in /usr/local/lib/python3.6/dist-packages (from tedana) (0.22.0)\n",
            "Requirement already satisfied: bz2file in /usr/local/lib/python3.6/dist-packages (from nibabel>=2.1.0->tedana) (0.98)\n",
            "Requirement already satisfied: six>=1.3 in /usr/local/lib/python3.6/dist-packages (from nibabel>=2.1.0->tedana) (1.11.0)\n",
            "Requirement already satisfied: pytz>=2011k in /usr/local/lib/python3.6/dist-packages (from pandas->tedana) (2018.9)\n",
            "Requirement already satisfied: python-dateutil>=2 in /usr/local/lib/python3.6/dist-packages (from pandas->tedana) (2.5.3)\n",
            "Building wheels for collected packages: tedana\n",
            "  Building wheel for tedana (setup.py) ... \u001b[?25ldone\n",
            "\u001b[?25h  Stored in directory: /root/.cache/pip/wheels/00/49/3c/e1bab1714c0b83a21ea340bd150957dd90b8afb7617de4d6ca\n",
            "Successfully built tedana\n",
            "Installing collected packages: nilearn, versioneer, tedana\n",
            "Successfully installed nilearn-0.5.0 tedana-0.0.6 versioneer-0.18\n"
          ],
          "name": "stdout"
        }
      ]
    },
    {
      "metadata": {
        "id": "ReJGCaNo35-q",
        "colab_type": "code",
        "outputId": "b7b95d25-6deb-409a-db7d-a04a15ea1d3d",
        "colab": {
          "base_uri": "https://localhost:8080/",
          "height": 89
        }
      },
      "cell_type": "code",
      "source": [
        "!ls -l"
      ],
      "execution_count": 0,
      "outputs": [
        {
          "output_type": "stream",
          "text": [
            "total 70160\n",
            "drwxr-xr-x 2 root root     4096 Mar  3 09:30 e5_data\n",
            "-rw-r--r-- 1 root root 71831808 Mar  3 09:29 five_echo_NIH.tar.xz\n",
            "drwxr-xr-x 1 root root     4096 Feb 26 17:33 sample_data\n"
          ],
          "name": "stdout"
        }
      ]
    },
    {
      "metadata": {
        "id": "sbMIHERW4Fw0",
        "colab_type": "text"
      },
      "cell_type": "markdown",
      "source": [
        "# Let's run the tedana workflow"
      ]
    },
    {
      "metadata": {
        "id": "C6ztgNtj3_Wt",
        "colab_type": "code",
        "outputId": "515b5650-717a-4ab7-8387-5e2caaf59509",
        "colab": {
          "base_uri": "https://localhost:8080/",
          "height": 300
        }
      },
      "cell_type": "code",
      "source": [
        "!tedana -d e5_data/p06.SBJ01_S09_Task11_e1.sm.nii.gz e5_data/p06.SBJ01_S09_Task11_e2.sm.nii.gz e5_data/p06.SBJ01_S09_Task11_e3.sm.nii.gz e5_data/p06.SBJ01_S09_Task11_e4.sm.nii.gz e5_data/p06.SBJ01_S09_Task11_e5.sm.nii.gz -e 15.4 29.7 44.0 58.3 72.6 --verbose --tedpca mle"
      ],
      "execution_count": 0,
      "outputs": [
        {
          "output_type": "stream",
          "text": [
            "Module `duecredit` not successfully imported due to \"No module named 'duecredit'\". Package functionality unaffected.\n",
            "/usr/lib/python3.6/importlib/_bootstrap.py:219: ImportWarning: can't resolve package from __spec__ or __package__, falling back on __name__ and __path__\n",
            "  return f(*args, **kwds)\n",
            "INFO:tedana.workflows.tedana:Using output directory: /content\n",
            "INFO:tedana.workflows.tedana:Loading input data: ['e5_data/p06.SBJ01_S09_Task11_e1.sm.nii.gz', 'e5_data/p06.SBJ01_S09_Task11_e2.sm.nii.gz', 'e5_data/p06.SBJ01_S09_Task11_e3.sm.nii.gz', 'e5_data/p06.SBJ01_S09_Task11_e4.sm.nii.gz', 'e5_data/p06.SBJ01_S09_Task11_e5.sm.nii.gz']\n",
            "INFO:tedana.workflows.tedana:Computing adaptive mask\n",
            "INFO:tedana.workflows.tedana:Computing T2* map\n",
            "INFO:tedana.combine:Optimally combining data with voxel-wise T2 estimates\n",
            "INFO:tedana.decomposition.eigendecomp:Computing PCA of optimally combined multi-echo data\n",
            "INFO:tedana.decomposition.eigendecomp:Making initial component selection guess from PCA results\n",
            "INFO:tedana.model.fit:Fitting TE- and S0-dependent models to components\n",
            "INFO:tedana.decomposition.eigendecomp:Saving PCA results to: /content/pcastate.pkl\n",
            "INFO:tedana.decomposition.eigendecomp:Selected 159 components with MLE dimensionality detection\n"
          ],
          "name": "stdout"
        }
      ]
    },
    {
      "metadata": {
        "id": "L4YG-ZZnEEyy",
        "colab_type": "code",
        "colab": {}
      },
      "cell_type": "code",
      "source": [
        "%matplotlib inline\n",
        "import os.path as op\n",
        "from glob import glob\n",
        "\n",
        "import numpy as np\n",
        "import nibabel as nib\n",
        "import seaborn as sns\n",
        "import matplotlib.pyplot as plt\n",
        "from nilearn import plotting"
      ],
      "execution_count": 0,
      "outputs": []
    },
    {
      "metadata": {
        "id": "7Itzziy7uzWo",
        "colab_type": "code",
        "colab": {}
      },
      "cell_type": "code",
      "source": [
        "data_dir = 'e5_data/'\n",
        "files = ['p06.SBJ01_S09_Task11_e1.sm.nii.gz',\n",
        "         'p06.SBJ01_S09_Task11_e2.sm.nii.gz',\n",
        "         'p06.SBJ01_S09_Task11_e3.sm.nii.gz',\n",
        "         'p06.SBJ01_S09_Task11_e4.sm.nii.gz',\n",
        "         'p06.SBJ01_S09_Task11_e5.sm.nii.gz']\n",
        "files = [op.join(data_dir, f) for f in files]\n",
        "imgs = [nib.load(f) for f in files]\n",
        "echo_times = np.array([15.4, 29.7, 44.0, 58.3, 72.6])\n",
        "\n",
        "n_echoes = len(imgs)\n",
        "n_trs = imgs[0].shape[-1]\n",
        "\n",
        "pal = sns.color_palette('cubehelix', n_echoes)"
      ],
      "execution_count": 0,
      "outputs": []
    },
    {
      "metadata": {
        "id": "2Z0R89PREhH-",
        "colab_type": "code",
        "colab": {}
      },
      "cell_type": "code",
      "source": [
        "# Select voxel from around middle of brain\n",
        "ts = [img.get_data()[22, 40, 2, :] for img in imgs]\n",
        "\n",
        "# Prepare data for model\n",
        "ts_1d = np.hstack(ts) # data raveled out (T * E)\n",
        "log_data = np.log(np.abs(ts_1d) + 1)\n",
        "# log_data = np.log(ts_1d)  # in a perfect world...\n",
        "x = np.column_stack([np.ones(n_echoes), -1 * echo_times])\n",
        "X = np.repeat(x, n_trs, axis=0)  # T * E\n",
        "\n",
        "# Model fit\n",
        "betas = np.linalg.lstsq(X, log_data, rcond=None)[0]\n",
        "s0 = np.exp(betas[0])\n",
        "r2s = betas[1]\n",
        "t2s = 1. / r2s\n",
        "\n",
        "# Values for plots\n",
        "# Values from log-linear model\n",
        "log_x = np.arange(-80, 0, .01)\n",
        "log_y = betas[0] + log_x*betas[1]\n",
        "\n",
        "# Values from monoexponential decay model\n",
        "mono_x = np.arange(0, 80, .01)\n",
        "mono_y = np.exp(-1*betas[1]*mono_x) * s0\n",
        "\n",
        "# Get weights for optimal combination\n",
        "alpha = echo_times * np.exp(-echo_times / t2s)\n",
        "alpha = alpha / np.sum(alpha)  # unnecessary but good for bar plot below\n",
        "\n",
        "# Combine data across echoes\n",
        "oc = np.average(np.vstack(ts), axis=0, weights=alpha)"
      ],
      "execution_count": 0,
      "outputs": []
    },
    {
      "metadata": {
        "id": "DJFeW9TCE7Ck",
        "colab_type": "code",
        "colab": {}
      },
      "cell_type": "code",
      "source": [
        "fig, axes = plt.subplots(n_echoes, sharex=True, sharey=False, figsize=(14, 6))\n",
        "for i_echo in range(n_echoes):\n",
        "    axes[i_echo].plot(ts[i_echo], color=pal[i_echo])\n",
        "    axes[i_echo].set_ylabel('{0}ms'.format(echo_times[i_echo]), rotation=0, va='center', ha='right', fontsize=14)\n",
        "    axes[i_echo].set_yticks([])\n",
        "    axes[i_echo].set_xticks([])\n",
        "\n",
        "axes[-1].set_xlabel('Time', fontsize=16)\n",
        "axes[-1].set_xlim(0, len(ts[i_echo])-1)\n",
        "fig.tight_layout()\n",
        "fig.show()"
      ],
      "execution_count": 0,
      "outputs": []
    },
    {
      "metadata": {
        "id": "wayhzFa8QU2P",
        "colab_type": "code",
        "colab": {}
      },
      "cell_type": "code",
      "source": [
        "fig, ax = plt.subplots(figsize=(10, 6))\n",
        "values = [i[0] for i in ts]\n",
        "for i_echo in range(n_echoes):\n",
        "    rep_echo_times = np.ones(n_trs) * echo_times[i_echo]\n",
        "    ax.scatter(rep_echo_times, ts[i_echo], alpha=0.05, color=pal[i_echo])\n",
        "\n",
        "ax.set_ylabel('BOLD signal', fontsize=16)\n",
        "ax.set_xlabel('Echo Time (ms)', fontsize=16)\n",
        "ax.set_xticks(echo_times)\n",
        "ax.tick_params(axis='both', which='major', labelsize=14)\n",
        "\n",
        "ax.set_ylim(5000, 40000)\n",
        "fig.tight_layout()\n",
        "fig.show()"
      ],
      "execution_count": 0,
      "outputs": []
    },
    {
      "metadata": {
        "id": "_T_eoGtsQnV2",
        "colab_type": "code",
        "colab": {}
      },
      "cell_type": "code",
      "source": [
        "adaptive_mask_img = nib.load('adaptive_mask.nii')\n",
        "fig, ax = plt.subplots(figsize=(10, 6))\n",
        "\n",
        "plotting.plot_stat_map(adaptive_mask_img, vmax=8, alpha=1,\n",
        "                       cut_coords=[0, -4, 6],\n",
        "                       draw_cross=False, colorbar=True,\n",
        "                       annotate=False, bg_img=None, figure=fig, axes=ax)\n",
        "fig.show()"
      ],
      "execution_count": 0,
      "outputs": []
    },
    {
      "metadata": {
        "id": "mF4UdE_wQ1h1",
        "colab_type": "code",
        "colab": {}
      },
      "cell_type": "code",
      "source": [
        "fig, ax = plt.subplots(figsize=(10, 6))\n",
        "for i_echo in range(n_echoes):\n",
        "    rep_echo_times = -1 * np.ones(n_trs) * echo_times[i_echo]\n",
        "    log_echo_data = np.log((np.abs(ts[i_echo]) + 1))\n",
        "    ax.scatter(rep_echo_times, log_echo_data, alpha=0.05, color=pal[i_echo])\n",
        "\n",
        "ax.plot(log_x, log_y)\n",
        "\n",
        "ax.set_ylabel('log(BOLD signal)', fontsize=16)\n",
        "ax.set_xlabel('Negative Echo Time (ms)', fontsize=16)\n",
        "ax.set_xticks(-1 * echo_times)\n",
        "ax.set_xlim(-80, -10)\n",
        "ax.set_ylim(8.6, 10.5)\n",
        "ax.tick_params(axis='both', which='major', labelsize=14)\n",
        "\n",
        "ax.annotate('$B_0$: {0:.02f}\\n$B_1$: {1:.02f}'.format(betas[0], betas[1]),\n",
        "            xy=(-70, 9.5), fontsize=16,\n",
        "            bbox=dict(fc=\"white\", ec=\"black\", lw=1))\n",
        "\n",
        "fig.tight_layout()\n",
        "fig.show()"
      ],
      "execution_count": 0,
      "outputs": []
    },
    {
      "metadata": {
        "id": "p4ke_Wa6SLgz",
        "colab_type": "code",
        "colab": {}
      },
      "cell_type": "code",
      "source": [
        "fig, ax = plt.subplots(figsize=(10, 6))\n",
        "for i_echo in range(n_echoes):\n",
        "    rep_echo_times = np.ones(n_trs) * echo_times[i_echo]\n",
        "    ax.scatter(rep_echo_times, ts[i_echo], alpha=0.05, color=pal[i_echo])\n",
        "\n",
        "ax.plot(mono_x, mono_y)\n",
        "\n",
        "ax.set_ylabel('BOLD signal', fontsize=16)\n",
        "ax.set_xlabel('Echo Time (ms)', fontsize=16)\n",
        "ax.set_xticks(echo_times)\n",
        "ax.set_xlim(10, 80)\n",
        "ax.set_ylim(5000, 40000)\n",
        "ax.tick_params(axis='both', which='major', labelsize=14)\n",
        "ax.annotate('$S_0$: {0:.02f}\\n$T_2^*$: {1:.02f}'.format(s0, t2s),\n",
        "            xy=(60, 20000), fontsize=16,\n",
        "            bbox=dict(fc=\"white\", ec=\"black\", lw=1))\n",
        "\n",
        "fig.tight_layout()\n",
        "fig.show()"
      ],
      "execution_count": 0,
      "outputs": []
    },
    {
      "metadata": {
        "id": "bdBiuvYFS_Zp",
        "colab_type": "code",
        "colab": {}
      },
      "cell_type": "code",
      "source": [
        "fig, ax = plt.subplots(figsize=(10, 6))\n",
        "for i_echo in range(n_echoes):\n",
        "    rep_echo_times = np.ones(n_trs) * echo_times[i_echo]\n",
        "    ax.scatter(rep_echo_times, ts[i_echo], alpha=0.05, color=pal[i_echo])\n",
        "\n",
        "ax.plot(mono_x, mono_y)\n",
        "\n",
        "ax.axvline(t2s, 0, 1, label='$T_2^*$', color='black', linestyle='--', alpha=0.5)\n",
        "ax.set_ylabel('BOLD signal', fontsize=16)\n",
        "ax.set_xlabel('Echo Time (ms)', fontsize=16)\n",
        "ax.set_xticks(np.hstack((echo_times, [np.round(t2s, 1)])))\n",
        "ax.set_xlim(10, 80)\n",
        "ax.set_ylim(5000, 40000)\n",
        "ax.tick_params(axis='both', which='major', labelsize=14)\n",
        "\n",
        "legend = ax.legend(frameon=True, fontsize=16)\n",
        "\n",
        "fig.tight_layout()\n",
        "fig.show()"
      ],
      "execution_count": 0,
      "outputs": []
    },
    {
      "metadata": {
        "id": "LQySqIKzTSew",
        "colab_type": "code",
        "colab": {}
      },
      "cell_type": "code",
      "source": [
        "fig, ax = plt.subplots()\n",
        "sns.barplot(echo_times, alpha, ax=ax, palette=pal)\n",
        "ax.set_ylabel('Weight', fontsize=16)\n",
        "ax.set_xlabel('Echo Time (ms)', fontsize=16)\n",
        "ax.tick_params(axis='both', which='major', labelsize=14)\n",
        "fig.tight_layout()\n",
        "fig.show()"
      ],
      "execution_count": 0,
      "outputs": []
    },
    {
      "metadata": {
        "id": "seg4fv1H3NtG",
        "colab_type": "text"
      },
      "cell_type": "markdown",
      "source": [
        "# Optimally Combined Time series"
      ]
    },
    {
      "metadata": {
        "id": "7RSSS594UeJ2",
        "colab_type": "code",
        "colab": {}
      },
      "cell_type": "code",
      "source": [
        "fig, ax = plt.subplots(figsize=(10, 6))\n",
        "for i_echo in range(n_echoes):\n",
        "    rep_echo_times = np.ones(n_trs) * echo_times[i_echo]\n",
        "    ax.scatter(rep_echo_times, ts[i_echo], alpha=0.05, color=pal[i_echo])\n",
        "\n",
        "ax.plot(mono_x, mono_y)\n",
        "\n",
        "# Optimal combination\n",
        "rep_t2s = np.ones(n_trs) * t2s\n",
        "ax.scatter(rep_t2s, oc, alpha=1, color='red', label='Optimally\\ncombined\\ndata')\n",
        "\n",
        "ax.axvline(t2s, 0, 20000, label='$T_2^*$', color='black', linestyle='--', alpha=0.5)\n",
        "ax.set_ylabel('BOLD signal', fontsize=16)\n",
        "ax.set_xlabel('Echo Time (ms)', fontsize=16)\n",
        "ax.set_xticks(np.hstack((echo_times, [np.round(t2s, 1)])))\n",
        "ax.set_xlim(10, 80)\n",
        "ax.set_ylim(5000, 40000)\n",
        "ax.tick_params(axis='both', which='major', labelsize=14)\n",
        "\n",
        "legend = ax.legend(frameon=True, fontsize=16)\n",
        "\n",
        "fig.tight_layout()\n",
        "fig.show()"
      ],
      "execution_count": 0,
      "outputs": []
    },
    {
      "metadata": {
        "id": "1sO-SSbX3YkV",
        "colab_type": "code",
        "colab": {}
      },
      "cell_type": "code",
      "source": [
        ""
      ],
      "execution_count": 0,
      "outputs": []
    }
  ]
}
